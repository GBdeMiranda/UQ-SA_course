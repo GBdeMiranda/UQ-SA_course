{
 "cells": [
  {
   "attachments": {},
   "cell_type": "markdown",
   "metadata": {},
   "source": [
    "# Lecture 2.4: Bellman Equation\n",
    "\n",
    "The Bellman equation writes the relationship between the value of a decision problem at two points in time. It has found application in a number of fields, including economics, machine learning and control theory. \n",
    "The equation is given by:\n",
    "$$\n",
    "V(x) = \\max_{u \\in U} \\left\\{ f(x,u) + \\beta V(g(x,u)) \\right\\}\n",
    "$$\n",
    "\n",
    "where $x$ is a state variable, $u$ is an action variable, $V$ is the value function, $f$ is the reward function, $g$ is the transition function, and $\\beta$ is a discount factor. The value function is the expected discount\n",
    "cumulative reward for a given policy. The Bellman equation is a necessary condition for optimality in the sequential decision problem.\n",
    "\n",
    "In the context of economics, the Bellman equation represents the relationship between the value of money and the value of the consumption decision. The value of money is the expected discounted future value of the money stock plus the expected discounted future value of the consumption decision.\n",
    "Example: the value of a decision problem at time $t$ is the expected discounted future value of the decision problem at time $t+1$ plus the expected discounted future value of the decision problem at time $t+2$.\n",
    "\n",
    "<!-- The Lorenz system is a set of three coupled nonlinear ordinary differential equations that describe a simplified model of atmospheric convection. It was first introduced by Edward Lorenz in 1963 as a toy model for weather forecasting and later became famous for its chaotic behavior. The equations are given by:\n",
    "\n",
    "$$\n",
    "\\begin{aligned}\n",
    "\\frac{dx}{dt} &= \\sigma(y - x) \\\\\n",
    "\\frac{dy}{dt} &= x(\\rho - z) - y \\\\\n",
    "\\frac{dz}{dt} &= xy - \\beta z,\n",
    "\\end{aligned}\n",
    "$$\n",
    "\n",
    "where $x$, $y$, and $z$ represent the state variables, $t$ is time, and $\\sigma$, $\\rho$, and $\\beta$ are parameters. The system exhibits chaotic behavior for certain parameter values, leading to sensitive dependence on initial conditions and a butterfly effect. The Lorenz system has been used as a paradigmatic example of chaos in many fields, including physics, mathematics, and engineering. -->"
   ]
  },
  {
   "attachments": {},
   "cell_type": "markdown",
   "metadata": {},
   "source": [
    "### Importing the required libraries\n",
    "Again we import the required libraries and set the plotting style. Here we import also the class `ProblemSpec` to set a problem specification to run the sensitivity analysis and propagate the uncertainties for the same given specification."
   ]
  },
  {
   "cell_type": "code",
   "execution_count": 1,
   "metadata": {},
   "outputs": [],
   "source": [
    "from SALib.sample.sobol import sample\n",
    "from SALib.analyze import sobol\n",
    "from SALib import ProblemSpec\n",
    "import numpy as np\n",
    "import matplotlib.pyplot as plt\n",
    "from scipy.integrate import solve_ivp\n",
    "import numpy as np\n",
    "\n",
    "plt.rcParams[\"mathtext.fontset\"] = \"stix\""
   ]
  },
  {
   "cell_type": "code",
   "execution_count": null,
   "metadata": {},
   "outputs": [],
   "source": []
  },
  {
   "attachments": {},
   "cell_type": "markdown",
   "metadata": {},
   "source": [
    "___\n",
    "### References\n",
    "\n",
    "http://www2.math.uu.se/~warwick/main/rodes/JFoCM.pdf\n",
    "https://link.springer.com/article/10.1007/s002080010018\n",
    "\n",
    "[1] T., Warwick (2002). A Rigorous ODE Solver and Smale's 14th Problem. doi:10.1007/s002080010018."
   ]
  }
 ],
 "metadata": {
  "kernelspec": {
   "display_name": "base",
   "language": "python",
   "name": "python3"
  },
  "language_info": {
   "codemirror_mode": {
    "name": "ipython",
    "version": 3
   },
   "file_extension": ".py",
   "mimetype": "text/x-python",
   "name": "python",
   "nbconvert_exporter": "python",
   "pygments_lexer": "ipython3",
   "version": "3.9.12"
  },
  "orig_nbformat": 4
 },
 "nbformat": 4,
 "nbformat_minor": 2
}
