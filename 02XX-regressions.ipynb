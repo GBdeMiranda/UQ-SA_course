{
 "cells": [
  {
   "attachments": {},
   "cell_type": "markdown",
   "metadata": {},
   "source": [
    "# Lecture 2.X: Regressions\n",
    "\n",
    "In this lecture, we will see how Sensitivity Analysis can be used as a tool for model improvement/selection based on the output's variance dependence on the input parameters.\n",
    "We will again use the Sobol indices to make a parallel with the previous lectures, but notice that there are other sensitivity indices and already implemented robust packages that can be used for this purpose. Also, there is a plethora of packages with methods for regression problems, as the amazing `scikit-learn` package, but here we will define our regression model from scratch to better understand the process.\n",
    "\n",
    "We will improve a regression to target data to consider more input parameters and so be more flexible to the input data.\n",
    "For this purpose, we will work with the Boston Housing dataset, which is a classic dataset for regression problems.\n",
    "\n",
    "The dataset is composed of 13 input parameters and 1 output parameter, which is the median value of owner-occupied homes in $1000's. The parameters are presented in order below.\n",
    "- `CRIM`:     per capita crime rate by town\n",
    "- `ZN`:       proportion of residential land zoned for lots over 25,000 sq.ft.\n",
    "- `INDUS`:    proportion of non-retail business acres per town\n",
    "- `CHAS`:     Charles River dummy variable (= 1 if tract bounds river; 0 otherwise)\n",
    "- `NOX`:      nitric oxides concentration (parts per 10 million)\n",
    "- `RM`:       average number of rooms per dwelling\n",
    "- `AGE`:      proportion of owner-occupied units built prior to 1940\n",
    "- `DIS`:      weighted distances to five Boston employment centres\n",
    "- `RAD`:      index of accessibility to radial highways\n",
    "- `TAX`:      full-value property-tax rate per $10,000\n",
    "- `PTRATIO`:  pupil-teacher ratio by town\n",
    "- `B`:        1000(Bk - 0.63)^2 where Bk is the proportion of blacks by town\n",
    "- `LSTAT`:    % lower status of the population\n",
    "- `MEDV`:     Median value of owner-occupied homes in $1000's (target)"
   ]
  },
  {
   "attachments": {},
   "cell_type": "markdown",
   "metadata": {},
   "source": [
    "### Importing the required libraries"
   ]
  },
  {
   "cell_type": "code",
   "execution_count": 6,
   "metadata": {},
   "outputs": [],
   "source": [
    "from SALib import ProblemSpec\n",
    "import numpy as np\n",
    "import matplotlib.pyplot as plt\n",
    "\n",
    "plt.rcParams[\"mathtext.fontset\"] = \"stix\"\n",
    "plt.rcParams[\"font.family\"] = \"serif\""
   ]
  },
  {
   "cell_type": "code",
   "execution_count": null,
   "metadata": {},
   "outputs": [],
   "source": [
    "# http://lib.stat.cmu.edu/datasets/boston\n"
   ]
  }
 ],
 "metadata": {
  "kernelspec": {
   "display_name": "base",
   "language": "python",
   "name": "python3"
  },
  "language_info": {
   "codemirror_mode": {
    "name": "ipython",
    "version": 3
   },
   "file_extension": ".py",
   "mimetype": "text/x-python",
   "name": "python",
   "nbconvert_exporter": "python",
   "pygments_lexer": "ipython3",
   "version": "3.9.12"
  },
  "orig_nbformat": 4
 },
 "nbformat": 4,
 "nbformat_minor": 2
}
